{
 "cells": [
  {
   "cell_type": "markdown",
   "metadata": {},
   "source": [
    "# Dynamic Programming Homework"
   ]
  },
  {
   "cell_type": "code",
   "execution_count": null,
   "metadata": {},
   "outputs": [],
   "source": [
    "import matplotlib.pyplot as plt\n",
    "import numpy as np\n",
    "\n",
    "%matplotlib inline"
   ]
  },
  {
   "cell_type": "markdown",
   "metadata": {},
   "source": [
    "### Cake eating exercise\n",
    "\n",
    "Consider an infinite time horizon $t = 0, 1, 2, 3\\dots$. At $t = 0$ the agent is endowed with a \"magic\" cake of size $\\bar{x}$. This cake is magic because every day when you wake up, the amount of cake you have remaining has increased overnight.\n",
    "\n",
    "The agent must choose how much cake to consume at each time period. Consuming quantity $c$ of the cake gives current utility $u(c)$.\n",
    "\n",
    "The cake increases according to $x_t = (1 + r) (x_{t-1} - c_{t-1})$ (this is as opposed to the non-growing cake we worked with in class that evolved according to $x_t = x_{t-1} - c_{t-1}$).\n",
    "\n",
    "The agent discounts the future with discount factor $\\beta$ so that their total utility over the infinite time horizon is\n",
    "\n",
    "$$v(\\bar{x}) = \\sum_{t=0}^{\\infty} \\beta^t u(c_t)$$\n",
    "\n",
    "We stick with the commonly used CRRA utility function\n",
    "\n",
    "$$u(c) = \\frac{c^{1-\\gamma}}{1-\\gamma} \\qquad (\\gamma > 1)$$\n"
   ]
  },
  {
   "cell_type": "markdown",
   "metadata": {},
   "source": [
    "**Question 1**\n",
    "\n",
    "Write the Bellman equation that describes the \"magic cake\" eating problem."
   ]
  },
  {
   "cell_type": "markdown",
   "metadata": {},
   "source": [
    "Write your answer here -- Preferably with LaTeX\n",
    "\n",
    "$$V(x_t) = ...$$"
   ]
  },
  {
   "cell_type": "markdown",
   "metadata": {},
   "source": [
    "**Question 2**\n",
    "\n",
    "Using either policy function iteration or value function iteration, solve for the optimal policy function and optimal value function.\n",
    "\n",
    "Use the following parameters:\n",
    "\n",
    "* $\\beta = 0.9$\n",
    "* $\\gamma = 2$\n",
    "* $r = 0.025$\n",
    "* $\\bar{x} = 2.5$"
   ]
  },
  {
   "cell_type": "code",
   "execution_count": null,
   "metadata": {},
   "outputs": [],
   "source": []
  },
  {
   "cell_type": "markdown",
   "metadata": {},
   "source": [
    "### Options pricing\n",
    "\n",
    "We are going to price an American put option now rather than a call option.\n",
    "\n",
    "Use (finite-horizon) value function iteration to compute the price of an American put option with the following parameters:\n",
    "\n",
    "* $T = 24$\n",
    "* $K = 0.98$\n",
    "* $S_0 = 1.0$\n",
    "* $\\sigma = 0.015$\n",
    "* $r = 0.002$"
   ]
  },
  {
   "cell_type": "code",
   "execution_count": null,
   "metadata": {},
   "outputs": [],
   "source": []
  },
  {
   "cell_type": "markdown",
   "metadata": {},
   "source": [
    "### McCall Model\n",
    "\n",
    "An unemployed agent receives a job offer described by a wage, $w_t$, in every period. The individual must choose whether to accept or reject this job:\n",
    "\n",
    "* If the individual accepts the job, they will work forever at wage $w_t$\n",
    "* If the individual rejects the job, they receive unemployment benefits $c$, and continue to search for a job next period.\n",
    "\n",
    "The individual is infinitely lived and aims to maximize the expected discounted sum of earnings,\n",
    "\n",
    "$$V = E \\sum_{t=0}^\\infty \\beta^t y_t$$\n",
    "\n",
    "The individual receives job offers according to the distribution we construct below:\n",
    "\n",
    "$$w_t = \\begin{cases} w_0 \\; \\text{with probability } q_0 \\\\ \\dots \\\\ w_N \\; \\text{with probability } q_N \\end{cases}$$"
   ]
  },
  {
   "cell_type": "code",
   "execution_count": null,
   "metadata": {},
   "outputs": [],
   "source": [
    "from quantecon.distributions import BetaBinomial\n",
    "\n",
    "# The probability of drawing wage i\n",
    "n, a, b = 50, 200, 100\n",
    "q_default = BetaBinomial(n, a, b).pdf()\n",
    "\n",
    "# Wage i\n",
    "w_min, w_max = 10, 60\n",
    "w_default = np.linspace(w_min, w_max, n+1)"
   ]
  },
  {
   "cell_type": "markdown",
   "metadata": {},
   "source": [
    "The remaining parameters are specified according to\n",
    "\n",
    "* $c = 25$\n",
    "* $\\beta = 0.99$"
   ]
  },
  {
   "cell_type": "markdown",
   "metadata": {},
   "source": [
    "**Question 1**\n",
    "\n",
    "What will the individual's lifetime utility be if they never accept a job offer?"
   ]
  },
  {
   "cell_type": "markdown",
   "metadata": {},
   "source": []
  },
  {
   "cell_type": "markdown",
   "metadata": {},
   "source": [
    "**Question 2**\n",
    "\n",
    "Construct the individual's Bellman equation."
   ]
  },
  {
   "cell_type": "markdown",
   "metadata": {},
   "source": []
  },
  {
   "cell_type": "markdown",
   "metadata": {},
   "source": [
    "**Question 3**\n",
    "\n",
    "Find the individual's optimal policy function (accept/reject) and optimal value function."
   ]
  },
  {
   "cell_type": "code",
   "execution_count": null,
   "metadata": {},
   "outputs": [],
   "source": []
  },
  {
   "cell_type": "markdown",
   "metadata": {},
   "source": [
    "**Question 4**\n",
    "\n",
    "The optimal policy function should take the format of a \"reservation wage\" -- The individual rejects all offers below the reservation and accepts the offers above the reservation wage.\n",
    "\n",
    "What is the reservation wage?"
   ]
  },
  {
   "cell_type": "code",
   "execution_count": null,
   "metadata": {},
   "outputs": [],
   "source": []
  },
  {
   "cell_type": "markdown",
   "metadata": {},
   "source": [
    "**Question 5**\n",
    "\n",
    "Resolve the model using the following pairs of $\\beta$ and $c$:\n",
    "\n",
    "* $\\beta = 0.95$, $c = 25$\n",
    "* $\\beta = 0.99$, $c = 30$\n",
    "* $\\beta = 0.9$, $c = 25$\n",
    "* $\\beta = 0.95$, $c = 30$\n",
    "\n",
    "What happens to the reservation wage in these cases? How do $\\beta$ and $c$ affect the reservation wage?"
   ]
  },
  {
   "cell_type": "code",
   "execution_count": null,
   "metadata": {},
   "outputs": [],
   "source": []
  }
 ],
 "metadata": {
  "kernelspec": {
   "display_name": "Python 3 (ipykernel)",
   "language": "python",
   "name": "python3"
  },
  "language_info": {
   "codemirror_mode": {
    "name": "ipython",
    "version": 3
   },
   "file_extension": ".py",
   "mimetype": "text/x-python",
   "name": "python",
   "nbconvert_exporter": "python",
   "pygments_lexer": "ipython3",
   "version": "3.9.7"
  }
 },
 "nbformat": 4,
 "nbformat_minor": 4
}
